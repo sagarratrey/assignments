{
 "cells": [
  {
   "cell_type": "code",
   "execution_count": 2,
   "id": "deddcb67",
   "metadata": {},
   "outputs": [
    {
     "data": {
      "text/plain": [
       "array([  5.  ,   4.67,   5.67,   6.67,   9.67,  28.67,  49.33,  72.67,\n",
       "        84.  ,  93.33, 116.33])"
      ]
     },
     "execution_count": 2,
     "metadata": {},
     "output_type": "execute_result"
    }
   ],
   "source": [
    "import numpy as np\n",
    "\n",
    "def moving_average(a, n=3) :\n",
    "\n",
    "    asum = np.cumsum(a, dtype=float)\n",
    "\n",
    "    asum[n:] = asum[n:] - asum[:-n]\n",
    "    return asum[n - 1:] / n\n",
    "\n",
    "a=[3, 5, 7, 2, 8, 10, 11, 65, 72, 81, 99, 100, 150]\n",
    "a1=np.array(a)\n",
    "\n",
    "np.array(moving_average(a1,n=3)).round(2)"
   ]
  },
  {
   "cell_type": "code",
   "execution_count": null,
   "id": "8d02c8c0",
   "metadata": {},
   "outputs": [],
   "source": []
  }
 ],
 "metadata": {
  "kernelspec": {
   "display_name": "Python 3",
   "language": "python",
   "name": "python3"
  },
  "language_info": {
   "codemirror_mode": {
    "name": "ipython",
    "version": 3
   },
   "file_extension": ".py",
   "mimetype": "text/x-python",
   "name": "python",
   "nbconvert_exporter": "python",
   "pygments_lexer": "ipython3",
   "version": "3.8.8"
  }
 },
 "nbformat": 4,
 "nbformat_minor": 5
}
