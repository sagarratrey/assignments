{
 "cells": [
  {
   "cell_type": "code",
   "execution_count": 1,
   "id": "9fc23c3c",
   "metadata": {},
   "outputs": [
    {
     "name": "stdout",
     "output_type": "stream",
     "text": [
      "this triangle has perimeter 12 and sides are 3, 4, 5\n",
      "77.76888838089432\n"
     ]
    }
   ],
   "source": [
    "class triangle:\n",
    "    def __init__(self, perimeter, a,b,c):\n",
    "        self.perimeter = perimeter\n",
    "        self.a = a\n",
    "        self.b = b\n",
    "        self.c = c\n",
    "        \n",
    "    def area(perimeter, a,b,c):\n",
    "        return (perimeter*(perimeter-a)*(perimeter-b)*(perimeter-c))**0.5\n",
    "    \n",
    "    def __str__(self):\n",
    "        return \"this triangle has perimeter %d and sides are %d, %d, %d\"\\\n",
    "               %(self.perimeter, self.a, self.b, self.c)\n",
    "    \n",
    "\n",
    "xx = triangle(12,3,4,5)\n",
    "print(xx)\n",
    "print(triangle.area(12,3,4,5))\n",
    "    "
   ]
  },
  {
   "cell_type": "code",
   "execution_count": null,
   "id": "2dcfb836",
   "metadata": {},
   "outputs": [],
   "source": []
  },
  {
   "cell_type": "code",
   "execution_count": 7,
   "id": "90d8efbd",
   "metadata": {},
   "outputs": [
    {
     "name": "stdout",
     "output_type": "stream",
     "text": [
      "3\n",
      "india pakistan afg uk srilanka\n"
     ]
    },
    {
     "data": {
      "text/plain": [
       "['india', 'pakistan', 'srilanka']"
      ]
     },
     "execution_count": 7,
     "metadata": {},
     "output_type": "execute_result"
    }
   ],
   "source": [
    "def filter_long_words():\n",
    "    n = int(input())\n",
    "    lis = list(map(str, input().split()))\n",
    "    \n",
    "    final = []\n",
    "    for i in range(len(lis)):\n",
    "        if len(lis[i]) > n:\n",
    "            final.append(lis[i])\n",
    "\n",
    "    return final\n",
    "\n",
    "filter_long_words()\n",
    "        "
   ]
  },
  {
   "cell_type": "code",
   "execution_count": null,
   "id": "144b4fc3",
   "metadata": {},
   "outputs": [],
   "source": []
  },
  {
   "cell_type": "code",
   "execution_count": 10,
   "id": "144c5854",
   "metadata": {},
   "outputs": [
    {
     "name": "stdout",
     "output_type": "stream",
     "text": [
      "hjghj oirtuoue ueoituoej\n",
      "[5, 8, 9]\n"
     ]
    }
   ],
   "source": [
    "def length_of_words(a):\n",
    "    return len(a)\n",
    "        \n",
    "\n",
    "lis = list(map(str, input().split()))\n",
    "x = list(map(length_of_words, lis))\n",
    "print(x)"
   ]
  },
  {
   "cell_type": "code",
   "execution_count": 6,
   "id": "b90dbc44",
   "metadata": {},
   "outputs": [
    {
     "name": "stdout",
     "output_type": "stream",
     "text": [
      "j\n",
      "False\n"
     ]
    }
   ],
   "source": [
    "def vowel():\n",
    "    c = str(input())\n",
    "    if c in ['a','i','o','u','e']:\n",
    "        print('True')\n",
    "    else:\n",
    "        print('False')\n",
    "        \n",
    "vowel()"
   ]
  },
  {
   "cell_type": "code",
   "execution_count": null,
   "id": "71fa369e",
   "metadata": {},
   "outputs": [],
   "source": []
  },
  {
   "cell_type": "code",
   "execution_count": null,
   "id": "68ac19db",
   "metadata": {},
   "outputs": [],
   "source": []
  }
 ],
 "metadata": {
  "kernelspec": {
   "display_name": "Python 3",
   "language": "python",
   "name": "python3"
  },
  "language_info": {
   "codemirror_mode": {
    "name": "ipython",
    "version": 3
   },
   "file_extension": ".py",
   "mimetype": "text/x-python",
   "name": "python",
   "nbconvert_exporter": "python",
   "pygments_lexer": "ipython3",
   "version": "3.8.8"
  }
 },
 "nbformat": 4,
 "nbformat_minor": 5
}
